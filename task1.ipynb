{
 "cells": [
  {
   "cell_type": "markdown",
   "id": "9fe3bd2d",
   "metadata": {},
   "source": [
    "# Task 1\n",
    "This is the solution for QOSF cohort 11 mentee screening task 1.\n",
    "\n",
    "The code below calls the global optimizer, differential evolution, with the different \n",
    "cost functions. Since the optimization functions may not give an exact match, the \n",
    "equivalence tests provide a final confirmation whether the resulting circuit matches a\n",
    "Toffoli gate.\n",
    "\n",
    "For steps followed while building this project, please see the [README.md](./README.md)"
   ]
  },
  {
   "cell_type": "code",
   "execution_count": 6,
   "id": "baafd195",
   "metadata": {},
   "outputs": [],
   "source": [
    "from parameter_tuning import (\n",
    "    optimize_with_counts,\n",
    "    optimize_with_frobenius,\n",
    "    optimize_with_trace_norm,\n",
    "    optimize_with_trace_overlap,\n",
    ")\n",
    "import cost\n",
    "from equivalency import state_vector_equiv, unitaries_allclose, operator_equiv\n",
    "from generate_circuits import generate_task_circuit, generate_toffoli\n",
    "from fractions import Fraction\n",
    "from typing import Union\n",
    "\n",
    "import numpy as np\n",
    "\n",
    "toffoli_circuit = generate_toffoli()\n",
    "\n",
    "def pretty_pi_print(angle:float) -> str:\n",
    "    if angle == 0:\n",
    "        return f\"{angle}\"\n",
    "    if angle == 1:\n",
    "        return \"pi\"\n",
    "    if angle == -1:\n",
    "        return \"-pi\"\n",
    "    return f\"{angle} pi\"\n",
    "\n",
    "def process_results(\n",
    "    results_times: Union[\n",
    "        tuple[list[float], float, str], list[tuple[list[float], float, str]]\n",
    "    ],\n",
    "):\n",
    "    if isinstance(results_times, tuple):\n",
    "        results_times= [results_times]\n",
    "\n",
    "    for result, time, cost_func in results_times:\n",
    "        result_circuit = generate_task_circuit(*result)\n",
    "        clean_angles = [\n",
    "            Fraction(angle / np.pi).limit_denominator(32) for angle in result\n",
    "        ]\n",
    "        operator_equiv_test =  operator_equiv(result_circuit.copy(), toffoli_circuit.copy())\n",
    "        state_vector_test =  state_vector_equiv(result_circuit.copy(), toffoli_circuit.copy())\n",
    "        allclose_test =  unitaries_allclose(result_circuit.copy(), toffoli_circuit.copy())\n",
    "        if (\n",
    "            state_vector_test\n",
    "            and allclose_test\n",
    "            and operator_equiv_test\n",
    "        ):\n",
    "            print(\n",
    "                f\"Angles successfully found with {cost_func} in {time} seconds!\\n\"\n",
    "                f\"U3({pretty_pi_print(clean_angles[0])}, {pretty_pi_print(clean_angles[1])}, {pretty_pi_print(clean_angles[2])})\\n\"\n",
    "                f\"U3({pretty_pi_print(clean_angles[3])}, {pretty_pi_print(clean_angles[4])}, {pretty_pi_print(clean_angles[5])})\"\n",
    "            )\n",
    "        else:\n",
    "            print(\n",
    "                f\"Cost function {cost_func} failed to find an exact match after {time} seconds.\\n\"\n",
    "                f\"state_vector:{state_vector_test} - allclose:{allclose_test} - operator:{operator_equiv_test}\\n\"\n",
    "                f\"The best angles found had a fidelity of {1 - getattr(cost, cost_func)(result_circuit.copy())} were:\\n\"\n",
    "                f\"U3({pretty_pi_print(clean_angles[0])}, {pretty_pi_print(clean_angles[1])}, {pretty_pi_print(clean_angles[2])})\\n\"\n",
    "                f\"U3({pretty_pi_print(clean_angles[3])}, {pretty_pi_print(clean_angles[4])}, {pretty_pi_print(clean_angles[5])})\"\n",
    "            )\n"
   ]
  },
  {
   "cell_type": "code",
   "execution_count": 7,
   "id": "9ec9d4fa",
   "metadata": {},
   "outputs": [
    {
     "name": "stdout",
     "output_type": "stream",
     "text": [
      "Cost function trace_overlap_cost failed to find an exact match after 143.35253381729126 seconds.\n",
      "state_vector:False - allclose:False - operator:False\n",
      "The best angles found had a fidelity of 0.9999999999999951 were:\n",
      "U3(3/2 pi, pi, 2 pi)\n",
      "U3(0, 7/4 pi, 0)\n"
     ]
    }
   ],
   "source": [
    "overlap_results = optimize_with_trace_overlap()\n",
    "process_results((*overlap_results, \"trace_overlap_cost\"))"
   ]
  },
  {
   "cell_type": "code",
   "execution_count": 8,
   "id": "ae3cd75e",
   "metadata": {},
   "outputs": [
    {
     "name": "stdout",
     "output_type": "stream",
     "text": [
      "Angles successfully found with frobenius_norm in 278.0414409637451 seconds!\n",
      "U3(1/2 pi, 0, pi)\n",
      "U3(0, 5/12 pi, 4/3 pi)\n"
     ]
    }
   ],
   "source": [
    "frobenius_results = optimize_with_frobenius()\n",
    "process_results((*frobenius_results, \"frobenius_norm\"))"
   ]
  },
  {
   "cell_type": "code",
   "execution_count": 9,
   "id": "80bc06ad",
   "metadata": {},
   "outputs": [
    {
     "name": "stdout",
     "output_type": "stream",
     "text": [
      "Cost function trace_norm failed to find an exact match after 289.11642694473267 seconds.\n",
      "state_vector:False - allclose:False - operator:False\n",
      "The best angles found had a fidelity of 0.9690941253256485 were:\n",
      "U3(1/2 pi, 0, pi)\n",
      "U3(0, 0, 54/31 pi)\n"
     ]
    }
   ],
   "source": [
    "trace_results = optimize_with_trace_norm()\n",
    "process_results((*trace_results, \"trace_norm\"))"
   ]
  },
  {
   "cell_type": "code",
   "execution_count": 10,
   "id": "5db29831",
   "metadata": {},
   "outputs": [
    {
     "name": "stdout",
     "output_type": "stream",
     "text": [
      "Cost function count_comparison failed to find an exact match after 707.2771446704865 seconds.\n",
      "state_vector:False - allclose:False - operator:False\n",
      "The best angles found had a fidelity of 0.911865234375 were:\n",
      "U3(7/13 pi, 13/12 pi, 0)\n",
      "U3(13/7 pi, 11/26 pi, 7/25 pi)\n"
     ]
    }
   ],
   "source": [
    "count_results = optimize_with_counts()\n",
    "process_results((*count_results, \"count_comparison\"))"
   ]
  }
 ],
 "metadata": {
  "kernelspec": {
   "display_name": "qosf-task1 (3.12.10)",
   "language": "python",
   "name": "python3"
  },
  "language_info": {
   "codemirror_mode": {
    "name": "ipython",
    "version": 3
   },
   "file_extension": ".py",
   "mimetype": "text/x-python",
   "name": "python",
   "nbconvert_exporter": "python",
   "pygments_lexer": "ipython3",
   "version": "3.12.10"
  }
 },
 "nbformat": 4,
 "nbformat_minor": 5
}
