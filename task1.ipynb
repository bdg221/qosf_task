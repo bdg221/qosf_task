{
 "cells": [
  {
   "cell_type": "markdown",
   "id": "9fe3bd2d",
   "metadata": {},
   "source": [
    "# Task 1\n",
    "This is the solution for QOSF cohort 11 mentee screening task 1.\n",
    "\n",
    "The code below calls the global optimizer, differential evolution, with the different \n",
    "cost functions. Since the optimization functions may not give an exact match, the \n",
    "equivalence tests provide a final confirmation whether the resulting circuit matches a\n",
    "Toffoli gate.\n",
    "\n",
    "For steps followed while building this project, please see the [README.md](./README.md)"
   ]
  },
  {
   "cell_type": "code",
   "execution_count": null,
   "id": "baafd195",
   "metadata": {},
   "outputs": [
    {
     "ename": "SyntaxError",
     "evalue": "f-string: expecting '!', or ':', or '}' (1873408439.py, line 61)",
     "output_type": "error",
     "traceback": [
      "  \u001b[36mCell\u001b[39m\u001b[36m \u001b[39m\u001b[32mIn[3]\u001b[39m\u001b[32m, line 61\u001b[39m\n\u001b[31m    \u001b[39m\u001b[31mf\"The best angles found had a fidelity of {1 - result = getattr(my_module, cost_func)()cost_func(result_circuit.copy())} were:\\n\"\u001b[39m\n                                                            ^\n\u001b[31mSyntaxError\u001b[39m\u001b[31m:\u001b[39m f-string: expecting '!', or ':', or '}'\n"
     ]
    }
   ],
   "source": [
    "from parameter_tuning import (\n",
    "    optimize_with_counts,\n",
    "    optimize_with_frobenius,\n",
    "    optimize_with_trace_norm,\n",
    "    optimize_with_trace_overlap,\n",
    ")\n",
    "import cost\n",
    "from equivalency import state_vector_equiv, unitaries_allclose, operator_equiv\n",
    "from generate_circuits import generate_task_circuit, generate_toffoli\n",
    "from fractions import Fraction\n",
    "from typing import Union\n",
    "\n",
    "import numpy as np\n",
    "\n",
    "toffoli_circuit = generate_toffoli()\n",
    "\n",
    "def pretty_pi_print(angle:float) -> str:\n",
    "    if angle == 0:\n",
    "        return f\"{angle}\"\n",
    "    if angle == 1:\n",
    "        return \"pi\"\n",
    "    if angle == -1:\n",
    "        return \"-pi\"\n",
    "    return f\"{angle} pi\"\n",
    "\n",
    "def process_results(\n",
    "    results_times: Union[\n",
    "        tuple[list[float], float, str], list[tuple[list[float], float, str]]\n",
    "    ],\n",
    "):\n",
    "    if isinstance(results_times, tuple):\n",
    "        results_times= [results_times]\n",
    "\n",
    "    for result, time, cost_func in results_times:\n",
    "        result_circuit = generate_task_circuit(*result)\n",
    "        clean_angles = [\n",
    "            Fraction(angle / np.pi).limit_denominator(32) for angle in result\n",
    "        ]\n",
    "        operator_equiv_test =  operator_equiv(result_circuit.copy(), toffoli_circuit.copy())\n",
    "        state_vector_test =  state_vector_equiv(result_circuit.copy(), toffoli_circuit.copy())\n",
    "        allclose_test =  unitaries_allclose(result_circuit.copy(), toffoli_circuit.copy())\n",
    "        if (\n",
    "            state_vector_test\n",
    "            and allclose_test\n",
    "            and operator_equiv_test\n",
    "        ):\n",
    "            print(\n",
    "                f\"Angles successfully found with {cost_func} in {time} seconds!\\n\"\n",
    "                f\"U3({pretty_pi_print(clean_angles[0])}, {pretty_pi_print(clean_angles[1])}, {pretty_pi_print(clean_angles[2])})\\n\"\n",
    "                f\"U3({pretty_pi_print(clean_angles[3])}, {pretty_pi_print(clean_angles[4])}, {pretty_pi_print(clean_angles[5])})\"\n",
    "            )\n",
    "        else:\n",
    "            print(\n",
    "                f\"Cost function {cost_func} failed to find an exact match after {time} seconds.\\n\"\n",
    "                f\"state_vector:{state_vector_test} - allclose:{allclose_test} - operator:{operator_equiv_test}\\n\"\n",
    "                f\"The best angles found had a fidelity of {1 - getattr(cost, cost_func)(result_circuit.copy())} were:\\n\"\n",
    "                f\"U3({pretty_pi_print(clean_angles[0])}, {pretty_pi_print(clean_angles[1])}, {pretty_pi_print(clean_angles[2])})\\n\"\n",
    "                f\"U3({pretty_pi_print(clean_angles[3])}, {pretty_pi_print(clean_angles[4])}, {pretty_pi_print(clean_angles[5])})\"\n",
    "            )\n"
   ]
  },
  {
   "cell_type": "code",
   "execution_count": 2,
   "id": "9ec9d4fa",
   "metadata": {},
   "outputs": [
    {
     "ename": "TypeError",
     "evalue": "'str' object is not callable",
     "output_type": "error",
     "traceback": [
      "\u001b[31m---------------------------------------------------------------------------\u001b[39m",
      "\u001b[31mTypeError\u001b[39m                                 Traceback (most recent call last)",
      "\u001b[36mCell\u001b[39m\u001b[36m \u001b[39m\u001b[32mIn[2]\u001b[39m\u001b[32m, line 2\u001b[39m\n\u001b[32m      1\u001b[39m overlap_results = optimize_with_trace_overlap()\n\u001b[32m----> \u001b[39m\u001b[32m2\u001b[39m \u001b[43mprocess_results\u001b[49m\u001b[43m(\u001b[49m\u001b[43m(\u001b[49m\u001b[43m*\u001b[49m\u001b[43moverlap_results\u001b[49m\u001b[43m,\u001b[49m\u001b[43m \u001b[49m\u001b[33;43m\"\u001b[39;49m\u001b[33;43mtrace_overlap_cost\u001b[39;49m\u001b[33;43m\"\u001b[39;49m\u001b[43m)\u001b[49m\u001b[43m)\u001b[49m\n",
      "\u001b[36mCell\u001b[39m\u001b[36m \u001b[39m\u001b[32mIn[1]\u001b[39m\u001b[32m, line 55\u001b[39m, in \u001b[36mprocess_results\u001b[39m\u001b[34m(results_times)\u001b[39m\n\u001b[32m     46\u001b[39m     \u001b[38;5;28mprint\u001b[39m(\n\u001b[32m     47\u001b[39m         \u001b[33mf\u001b[39m\u001b[33m\"\u001b[39m\u001b[33mAngles successfully found with \u001b[39m\u001b[38;5;132;01m{\u001b[39;00mcost_func\u001b[38;5;132;01m}\u001b[39;00m\u001b[33m in \u001b[39m\u001b[38;5;132;01m{\u001b[39;00mtime\u001b[38;5;132;01m}\u001b[39;00m\u001b[33m seconds!\u001b[39m\u001b[38;5;130;01m\\n\u001b[39;00m\u001b[33m\"\u001b[39m\n\u001b[32m     48\u001b[39m         \u001b[33mf\u001b[39m\u001b[33m\"\u001b[39m\u001b[33mU3(\u001b[39m\u001b[38;5;132;01m{\u001b[39;00mpretty_pi_print(clean_angles[\u001b[32m0\u001b[39m])\u001b[38;5;132;01m}\u001b[39;00m\u001b[33m, \u001b[39m\u001b[38;5;132;01m{\u001b[39;00mpretty_pi_print(clean_angles[\u001b[32m1\u001b[39m])\u001b[38;5;132;01m}\u001b[39;00m\u001b[33m, \u001b[39m\u001b[38;5;132;01m{\u001b[39;00mpretty_pi_print(clean_angles[\u001b[32m2\u001b[39m])\u001b[38;5;132;01m}\u001b[39;00m\u001b[33m)\u001b[39m\u001b[38;5;130;01m\\n\u001b[39;00m\u001b[33m\"\u001b[39m\n\u001b[32m     49\u001b[39m         \u001b[33mf\u001b[39m\u001b[33m\"\u001b[39m\u001b[33mU3(\u001b[39m\u001b[38;5;132;01m{\u001b[39;00mpretty_pi_print(clean_angles[\u001b[32m3\u001b[39m])\u001b[38;5;132;01m}\u001b[39;00m\u001b[33m, \u001b[39m\u001b[38;5;132;01m{\u001b[39;00mpretty_pi_print(clean_angles[\u001b[32m4\u001b[39m])\u001b[38;5;132;01m}\u001b[39;00m\u001b[33m, \u001b[39m\u001b[38;5;132;01m{\u001b[39;00mpretty_pi_print(clean_angles[\u001b[32m5\u001b[39m])\u001b[38;5;132;01m}\u001b[39;00m\u001b[33m)\u001b[39m\u001b[33m\"\u001b[39m\n\u001b[32m     50\u001b[39m     )\n\u001b[32m     51\u001b[39m \u001b[38;5;28;01melse\u001b[39;00m:\n\u001b[32m     52\u001b[39m     \u001b[38;5;28mprint\u001b[39m(\n\u001b[32m     53\u001b[39m         \u001b[33mf\u001b[39m\u001b[33m\"\u001b[39m\u001b[33mCost function \u001b[39m\u001b[38;5;132;01m{\u001b[39;00mcost_func\u001b[38;5;132;01m}\u001b[39;00m\u001b[33m failed to find an exact match after \u001b[39m\u001b[38;5;132;01m{\u001b[39;00mtime\u001b[38;5;132;01m}\u001b[39;00m\u001b[33m seconds.\u001b[39m\u001b[38;5;130;01m\\n\u001b[39;00m\u001b[33m\"\u001b[39m\n\u001b[32m     54\u001b[39m         \u001b[33mf\u001b[39m\u001b[33m\"\u001b[39m\u001b[33mstate_vector:\u001b[39m\u001b[38;5;132;01m{\u001b[39;00mstate_vector_test\u001b[38;5;132;01m}\u001b[39;00m\u001b[33m - allclose:\u001b[39m\u001b[38;5;132;01m{\u001b[39;00mallclose_test\u001b[38;5;132;01m}\u001b[39;00m\u001b[33m - operator:\u001b[39m\u001b[38;5;132;01m{\u001b[39;00moperator_equiv_test\u001b[38;5;132;01m}\u001b[39;00m\u001b[38;5;130;01m\\n\u001b[39;00m\u001b[33m\"\u001b[39m\n\u001b[32m---> \u001b[39m\u001b[32m55\u001b[39m         \u001b[33mf\u001b[39m\u001b[33m\"\u001b[39m\u001b[33mThe best angles found had a fidelity of \u001b[39m\u001b[38;5;132;01m{\u001b[39;00m\u001b[32m1\u001b[39m\u001b[38;5;250m \u001b[39m-\u001b[38;5;250m \u001b[39m\u001b[43mcost_func\u001b[49m\u001b[43m(\u001b[49m\u001b[43mresult_circuit\u001b[49m\u001b[43m.\u001b[49m\u001b[43mcopy\u001b[49m\u001b[43m(\u001b[49m\u001b[43m)\u001b[49m\u001b[43m)\u001b[49m\u001b[38;5;132;01m}\u001b[39;00m\u001b[33m were:\u001b[39m\u001b[38;5;130;01m\\n\u001b[39;00m\u001b[33m\"\u001b[39m\n\u001b[32m     56\u001b[39m         \u001b[33mf\u001b[39m\u001b[33m\"\u001b[39m\u001b[33mU3(\u001b[39m\u001b[38;5;132;01m{\u001b[39;00mpretty_pi_print(clean_angles[\u001b[32m0\u001b[39m])\u001b[38;5;132;01m}\u001b[39;00m\u001b[33m, \u001b[39m\u001b[38;5;132;01m{\u001b[39;00mpretty_pi_print(clean_angles[\u001b[32m1\u001b[39m])\u001b[38;5;132;01m}\u001b[39;00m\u001b[33m, \u001b[39m\u001b[38;5;132;01m{\u001b[39;00mpretty_pi_print(clean_angles[\u001b[32m2\u001b[39m])\u001b[38;5;132;01m}\u001b[39;00m\u001b[33m)\u001b[39m\u001b[38;5;130;01m\\n\u001b[39;00m\u001b[33m\"\u001b[39m\n\u001b[32m     57\u001b[39m         \u001b[33mf\u001b[39m\u001b[33m\"\u001b[39m\u001b[33mU3(\u001b[39m\u001b[38;5;132;01m{\u001b[39;00mpretty_pi_print(clean_angles[\u001b[32m3\u001b[39m])\u001b[38;5;132;01m}\u001b[39;00m\u001b[33m, \u001b[39m\u001b[38;5;132;01m{\u001b[39;00mpretty_pi_print(clean_angles[\u001b[32m4\u001b[39m])\u001b[38;5;132;01m}\u001b[39;00m\u001b[33m, \u001b[39m\u001b[38;5;132;01m{\u001b[39;00mpretty_pi_print(clean_angles[\u001b[32m5\u001b[39m])\u001b[38;5;132;01m}\u001b[39;00m\u001b[33m)\u001b[39m\u001b[33m\"\u001b[39m\n\u001b[32m     58\u001b[39m     )\n",
      "\u001b[31mTypeError\u001b[39m: 'str' object is not callable"
     ]
    }
   ],
   "source": [
    "overlap_results = optimize_with_trace_overlap()\n",
    "process_results((*overlap_results, \"trace_overlap_cost\"))"
   ]
  },
  {
   "cell_type": "code",
   "execution_count": null,
   "id": "ae3cd75e",
   "metadata": {},
   "outputs": [],
   "source": [
    "frobenius_results = optimize_with_frobenius()\n",
    "process_results((*frobenius_results, \"frobenius_norm\"))"
   ]
  },
  {
   "cell_type": "code",
   "execution_count": null,
   "id": "80bc06ad",
   "metadata": {},
   "outputs": [],
   "source": [
    "trace_results = optimize_with_trace_norm()\n",
    "process_results((*trace_results, \"trace_norm\"))"
   ]
  },
  {
   "cell_type": "code",
   "execution_count": null,
   "id": "5db29831",
   "metadata": {},
   "outputs": [],
   "source": [
    "count_results = optimize_with_counts()\n",
    "process_results((*count_results, \"count_comparison\"))"
   ]
  }
 ],
 "metadata": {
  "kernelspec": {
   "display_name": "qosf-task1 (3.12.10)",
   "language": "python",
   "name": "python3"
  },
  "language_info": {
   "codemirror_mode": {
    "name": "ipython",
    "version": 3
   },
   "file_extension": ".py",
   "mimetype": "text/x-python",
   "name": "python",
   "nbconvert_exporter": "python",
   "pygments_lexer": "ipython3",
   "version": "3.12.10"
  }
 },
 "nbformat": 4,
 "nbformat_minor": 5
}
